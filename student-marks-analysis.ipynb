{
 "cells": [
  {
   "cell_type": "code",
   "execution_count": 1,
   "metadata": {
    "_cell_guid": "b1076dfc-b9ad-4769-8c92-a6c4dae69d19",
    "_uuid": "8f2839f25d086af736a60e9eeb907d3b93b6e0e5",
    "execution": {
     "iopub.execute_input": "2020-10-31T04:56:52.717353Z",
     "iopub.status.busy": "2020-10-31T04:56:52.716580Z",
     "iopub.status.idle": "2020-10-31T04:56:52.722779Z",
     "shell.execute_reply": "2020-10-31T04:56:52.722037Z"
    },
    "papermill": {
     "duration": 0.063099,
     "end_time": "2020-10-31T04:56:52.722917",
     "exception": false,
     "start_time": "2020-10-31T04:56:52.659818",
     "status": "completed"
    },
    "tags": []
   },
   "outputs": [
    {
     "name": "stdout",
     "output_type": "stream",
     "text": [
      "/kaggle/input/students-performance-in-exams/StudentsPerformance.csv\n"
     ]
    }
   ],
   "source": [
    "# This Python 3 environment comes with many helpful analytics libraries installed\n",
    "# It is defined by the kaggle/python Docker image: https://github.com/kaggle/docker-python\n",
    "# For example, here's several helpful packages to load\n",
    "\n",
    "import numpy as np # linear algebra\n",
    "import pandas as pd # data processing, CSV file I/O (e.g. pd.read_csv)\n",
    "\n",
    "# Input data files are available in the read-only \"../input/\" directory\n",
    "# For example, running this (by clicking run or pressing Shift+Enter) will list all files under the input directory\n",
    "\n",
    "import os\n",
    "for dirname, _, filenames in os.walk('/kaggle/input'):\n",
    "    for filename in filenames:\n",
    "        print(os.path.join(dirname, filename))\n",
    "\n",
    "# You can write up to 20GB to the current directory (/kaggle/working/) that gets preserved as output when you create a version using \"Save & Run All\" \n",
    "# You can also write temporary files to /kaggle/temp/, but they won't be saved outside of the current session"
   ]
  },
  {
   "cell_type": "code",
   "execution_count": 2,
   "metadata": {
    "_cell_guid": "79c7e3d0-c299-4dcb-8224-4455121ee9b0",
    "_uuid": "d629ff2d2480ee46fbb7e2d37f6b5fab8052498a",
    "execution": {
     "iopub.execute_input": "2020-10-31T04:56:52.829128Z",
     "iopub.status.busy": "2020-10-31T04:56:52.828355Z",
     "iopub.status.idle": "2020-10-31T04:56:54.130818Z",
     "shell.execute_reply": "2020-10-31T04:56:54.130172Z"
    },
    "papermill": {
     "duration": 1.355373,
     "end_time": "2020-10-31T04:56:54.130952",
     "exception": false,
     "start_time": "2020-10-31T04:56:52.775579",
     "status": "completed"
    },
    "tags": []
   },
   "outputs": [],
   "source": [
    "import matplotlib.pyplot as plt\n",
    "from sklearn import*\n",
    "import warnings"
   ]
  },
  {
   "cell_type": "markdown",
   "metadata": {
    "papermill": {
     "duration": 0.048029,
     "end_time": "2020-10-31T04:56:54.227847",
     "exception": false,
     "start_time": "2020-10-31T04:56:54.179818",
     "status": "completed"
    },
    "tags": []
   },
   "source": [
    "# Reading data and Visualization"
   ]
  },
  {
   "cell_type": "code",
   "execution_count": 3,
   "metadata": {
    "execution": {
     "iopub.execute_input": "2020-10-31T04:56:54.331251Z",
     "iopub.status.busy": "2020-10-31T04:56:54.330537Z",
     "iopub.status.idle": "2020-10-31T04:56:54.366021Z",
     "shell.execute_reply": "2020-10-31T04:56:54.366624Z"
    },
    "papermill": {
     "duration": 0.089763,
     "end_time": "2020-10-31T04:56:54.366772",
     "exception": false,
     "start_time": "2020-10-31T04:56:54.277009",
     "status": "completed"
    },
    "tags": []
   },
   "outputs": [
    {
     "data": {
      "text/html": [
       "<div>\n",
       "<style scoped>\n",
       "    .dataframe tbody tr th:only-of-type {\n",
       "        vertical-align: middle;\n",
       "    }\n",
       "\n",
       "    .dataframe tbody tr th {\n",
       "        vertical-align: top;\n",
       "    }\n",
       "\n",
       "    .dataframe thead th {\n",
       "        text-align: right;\n",
       "    }\n",
       "</style>\n",
       "<table border=\"1\" class=\"dataframe\">\n",
       "  <thead>\n",
       "    <tr style=\"text-align: right;\">\n",
       "      <th></th>\n",
       "      <th>gender</th>\n",
       "      <th>race/ethnicity</th>\n",
       "      <th>parental level of education</th>\n",
       "      <th>lunch</th>\n",
       "      <th>test preparation course</th>\n",
       "      <th>math score</th>\n",
       "      <th>reading score</th>\n",
       "      <th>writing score</th>\n",
       "    </tr>\n",
       "  </thead>\n",
       "  <tbody>\n",
       "    <tr>\n",
       "      <th>0</th>\n",
       "      <td>female</td>\n",
       "      <td>group B</td>\n",
       "      <td>bachelor's degree</td>\n",
       "      <td>standard</td>\n",
       "      <td>none</td>\n",
       "      <td>72</td>\n",
       "      <td>72</td>\n",
       "      <td>74</td>\n",
       "    </tr>\n",
       "    <tr>\n",
       "      <th>1</th>\n",
       "      <td>female</td>\n",
       "      <td>group C</td>\n",
       "      <td>some college</td>\n",
       "      <td>standard</td>\n",
       "      <td>completed</td>\n",
       "      <td>69</td>\n",
       "      <td>90</td>\n",
       "      <td>88</td>\n",
       "    </tr>\n",
       "    <tr>\n",
       "      <th>2</th>\n",
       "      <td>female</td>\n",
       "      <td>group B</td>\n",
       "      <td>master's degree</td>\n",
       "      <td>standard</td>\n",
       "      <td>none</td>\n",
       "      <td>90</td>\n",
       "      <td>95</td>\n",
       "      <td>93</td>\n",
       "    </tr>\n",
       "    <tr>\n",
       "      <th>3</th>\n",
       "      <td>male</td>\n",
       "      <td>group A</td>\n",
       "      <td>associate's degree</td>\n",
       "      <td>free/reduced</td>\n",
       "      <td>none</td>\n",
       "      <td>47</td>\n",
       "      <td>57</td>\n",
       "      <td>44</td>\n",
       "    </tr>\n",
       "    <tr>\n",
       "      <th>4</th>\n",
       "      <td>male</td>\n",
       "      <td>group C</td>\n",
       "      <td>some college</td>\n",
       "      <td>standard</td>\n",
       "      <td>none</td>\n",
       "      <td>76</td>\n",
       "      <td>78</td>\n",
       "      <td>75</td>\n",
       "    </tr>\n",
       "    <tr>\n",
       "      <th>...</th>\n",
       "      <td>...</td>\n",
       "      <td>...</td>\n",
       "      <td>...</td>\n",
       "      <td>...</td>\n",
       "      <td>...</td>\n",
       "      <td>...</td>\n",
       "      <td>...</td>\n",
       "      <td>...</td>\n",
       "    </tr>\n",
       "    <tr>\n",
       "      <th>995</th>\n",
       "      <td>female</td>\n",
       "      <td>group E</td>\n",
       "      <td>master's degree</td>\n",
       "      <td>standard</td>\n",
       "      <td>completed</td>\n",
       "      <td>88</td>\n",
       "      <td>99</td>\n",
       "      <td>95</td>\n",
       "    </tr>\n",
       "    <tr>\n",
       "      <th>996</th>\n",
       "      <td>male</td>\n",
       "      <td>group C</td>\n",
       "      <td>high school</td>\n",
       "      <td>free/reduced</td>\n",
       "      <td>none</td>\n",
       "      <td>62</td>\n",
       "      <td>55</td>\n",
       "      <td>55</td>\n",
       "    </tr>\n",
       "    <tr>\n",
       "      <th>997</th>\n",
       "      <td>female</td>\n",
       "      <td>group C</td>\n",
       "      <td>high school</td>\n",
       "      <td>free/reduced</td>\n",
       "      <td>completed</td>\n",
       "      <td>59</td>\n",
       "      <td>71</td>\n",
       "      <td>65</td>\n",
       "    </tr>\n",
       "    <tr>\n",
       "      <th>998</th>\n",
       "      <td>female</td>\n",
       "      <td>group D</td>\n",
       "      <td>some college</td>\n",
       "      <td>standard</td>\n",
       "      <td>completed</td>\n",
       "      <td>68</td>\n",
       "      <td>78</td>\n",
       "      <td>77</td>\n",
       "    </tr>\n",
       "    <tr>\n",
       "      <th>999</th>\n",
       "      <td>female</td>\n",
       "      <td>group D</td>\n",
       "      <td>some college</td>\n",
       "      <td>free/reduced</td>\n",
       "      <td>none</td>\n",
       "      <td>77</td>\n",
       "      <td>86</td>\n",
       "      <td>86</td>\n",
       "    </tr>\n",
       "  </tbody>\n",
       "</table>\n",
       "<p>1000 rows × 8 columns</p>\n",
       "</div>"
      ],
      "text/plain": [
       "     gender race/ethnicity parental level of education         lunch  \\\n",
       "0    female        group B           bachelor's degree      standard   \n",
       "1    female        group C                some college      standard   \n",
       "2    female        group B             master's degree      standard   \n",
       "3      male        group A          associate's degree  free/reduced   \n",
       "4      male        group C                some college      standard   \n",
       "..      ...            ...                         ...           ...   \n",
       "995  female        group E             master's degree      standard   \n",
       "996    male        group C                 high school  free/reduced   \n",
       "997  female        group C                 high school  free/reduced   \n",
       "998  female        group D                some college      standard   \n",
       "999  female        group D                some college  free/reduced   \n",
       "\n",
       "    test preparation course  math score  reading score  writing score  \n",
       "0                      none          72             72             74  \n",
       "1                 completed          69             90             88  \n",
       "2                      none          90             95             93  \n",
       "3                      none          47             57             44  \n",
       "4                      none          76             78             75  \n",
       "..                      ...         ...            ...            ...  \n",
       "995               completed          88             99             95  \n",
       "996                    none          62             55             55  \n",
       "997               completed          59             71             65  \n",
       "998               completed          68             78             77  \n",
       "999                    none          77             86             86  \n",
       "\n",
       "[1000 rows x 8 columns]"
      ]
     },
     "execution_count": 3,
     "metadata": {},
     "output_type": "execute_result"
    }
   ],
   "source": [
    "df=pd.read_csv('/kaggle/input/students-performance-in-exams/StudentsPerformance.csv')\n",
    "df"
   ]
  },
  {
   "cell_type": "markdown",
   "metadata": {
    "papermill": {
     "duration": 0.048817,
     "end_time": "2020-10-31T04:56:54.465095",
     "exception": false,
     "start_time": "2020-10-31T04:56:54.416278",
     "status": "completed"
    },
    "tags": []
   },
   "source": [
    "# Pre-processing"
   ]
  },
  {
   "cell_type": "markdown",
   "metadata": {
    "papermill": {
     "duration": 0.049179,
     "end_time": "2020-10-31T04:56:54.563870",
     "exception": false,
     "start_time": "2020-10-31T04:56:54.514691",
     "status": "completed"
    },
    "tags": []
   },
   "source": [
    "checking shape of the dataframe and finding leakages"
   ]
  },
  {
   "cell_type": "code",
   "execution_count": 4,
   "metadata": {
    "execution": {
     "iopub.execute_input": "2020-10-31T04:56:54.669343Z",
     "iopub.status.busy": "2020-10-31T04:56:54.668381Z",
     "iopub.status.idle": "2020-10-31T04:56:54.672703Z",
     "shell.execute_reply": "2020-10-31T04:56:54.672058Z"
    },
    "papermill": {
     "duration": 0.058939,
     "end_time": "2020-10-31T04:56:54.672836",
     "exception": false,
     "start_time": "2020-10-31T04:56:54.613897",
     "status": "completed"
    },
    "tags": []
   },
   "outputs": [
    {
     "name": "stdout",
     "output_type": "stream",
     "text": [
      "shape of the dataframe is :  (1000, 8)\n"
     ]
    }
   ],
   "source": [
    "print('shape of the dataframe is : ',df.shape)"
   ]
  },
  {
   "cell_type": "code",
   "execution_count": 5,
   "metadata": {
    "execution": {
     "iopub.execute_input": "2020-10-31T04:56:54.785355Z",
     "iopub.status.busy": "2020-10-31T04:56:54.784438Z",
     "iopub.status.idle": "2020-10-31T04:56:54.788800Z",
     "shell.execute_reply": "2020-10-31T04:56:54.787935Z"
    },
    "papermill": {
     "duration": 0.06587,
     "end_time": "2020-10-31T04:56:54.788966",
     "exception": false,
     "start_time": "2020-10-31T04:56:54.723096",
     "status": "completed"
    },
    "tags": []
   },
   "outputs": [
    {
     "name": "stdout",
     "output_type": "stream",
     "text": [
      "gender\n",
      "number of leakages  :   0\n",
      "race/ethnicity\n",
      "number of leakages  :   0\n",
      "parental level of education\n",
      "number of leakages  :   0\n",
      "lunch\n",
      "number of leakages  :   0\n",
      "test preparation course\n",
      "number of leakages  :   0\n",
      "math score\n",
      "number of leakages  :   0\n",
      "reading score\n",
      "number of leakages  :   0\n",
      "writing score\n",
      "number of leakages  :   0\n"
     ]
    }
   ],
   "source": [
    "for col in df.columns:\n",
    "    print(col)\n",
    "    print('number of leakages  :  ',len(df[df[col]==np.NaN]))"
   ]
  },
  {
   "cell_type": "markdown",
   "metadata": {
    "papermill": {
     "duration": 0.050565,
     "end_time": "2020-10-31T04:56:54.890559",
     "exception": false,
     "start_time": "2020-10-31T04:56:54.839994",
     "status": "completed"
    },
    "tags": []
   },
   "source": [
    "Data is very good as it does not contain any leakages. As per the data is small if we faced leakages then predicting or making EDA would be tough."
   ]
  },
  {
   "cell_type": "markdown",
   "metadata": {
    "papermill": {
     "duration": 0.052528,
     "end_time": "2020-10-31T04:56:54.994251",
     "exception": false,
     "start_time": "2020-10-31T04:56:54.941723",
     "status": "completed"
    },
    "tags": []
   },
   "source": [
    "As we don't have to preprocess any leakages we initiate numeration of categorical data"
   ]
  },
  {
   "cell_type": "markdown",
   "metadata": {
    "papermill": {
     "duration": 0.050198,
     "end_time": "2020-10-31T04:56:55.097964",
     "exception": false,
     "start_time": "2020-10-31T04:56:55.047766",
     "status": "completed"
    },
    "tags": []
   },
   "source": [
    "We have to numerate --\n",
    "1. Gender\n",
    "2. Race/ethnicity\n",
    "3. Parental level of Education\n",
    "4. Lunch\n",
    "5. Test preparation course"
   ]
  },
  {
   "cell_type": "markdown",
   "metadata": {
    "papermill": {
     "duration": 0.050664,
     "end_time": "2020-10-31T04:56:55.199329",
     "exception": false,
     "start_time": "2020-10-31T04:56:55.148665",
     "status": "completed"
    },
    "tags": []
   },
   "source": [
    "1. gender:   ( 0 - male )     ( 1 - female )\n",
    "2. lunch:     ( 0 - free/reduced )   ( 1 - standard )\n",
    "3. test preparation course:     ( 0 - completed )   ( 1 - none )"
   ]
  },
  {
   "cell_type": "code",
   "execution_count": 6,
   "metadata": {
    "execution": {
     "iopub.execute_input": "2020-10-31T04:56:55.331814Z",
     "iopub.status.busy": "2020-10-31T04:56:55.330770Z",
     "iopub.status.idle": "2020-10-31T04:56:55.335729Z",
     "shell.execute_reply": "2020-10-31T04:56:55.334993Z"
    },
    "papermill": {
     "duration": 0.085314,
     "end_time": "2020-10-31T04:56:55.335848",
     "exception": false,
     "start_time": "2020-10-31T04:56:55.250534",
     "status": "completed"
    },
    "tags": []
   },
   "outputs": [
    {
     "data": {
      "text/html": [
       "<div>\n",
       "<style scoped>\n",
       "    .dataframe tbody tr th:only-of-type {\n",
       "        vertical-align: middle;\n",
       "    }\n",
       "\n",
       "    .dataframe tbody tr th {\n",
       "        vertical-align: top;\n",
       "    }\n",
       "\n",
       "    .dataframe thead th {\n",
       "        text-align: right;\n",
       "    }\n",
       "</style>\n",
       "<table border=\"1\" class=\"dataframe\">\n",
       "  <thead>\n",
       "    <tr style=\"text-align: right;\">\n",
       "      <th></th>\n",
       "      <th>gender</th>\n",
       "      <th>race/ethnicity</th>\n",
       "      <th>parental level of education</th>\n",
       "      <th>lunch</th>\n",
       "      <th>test preparation course</th>\n",
       "      <th>math score</th>\n",
       "      <th>reading score</th>\n",
       "      <th>writing score</th>\n",
       "    </tr>\n",
       "  </thead>\n",
       "  <tbody>\n",
       "    <tr>\n",
       "      <th>0</th>\n",
       "      <td>1</td>\n",
       "      <td>group B</td>\n",
       "      <td>bachelor's degree</td>\n",
       "      <td>1</td>\n",
       "      <td>1</td>\n",
       "      <td>72</td>\n",
       "      <td>72</td>\n",
       "      <td>74</td>\n",
       "    </tr>\n",
       "    <tr>\n",
       "      <th>1</th>\n",
       "      <td>1</td>\n",
       "      <td>group C</td>\n",
       "      <td>some college</td>\n",
       "      <td>1</td>\n",
       "      <td>0</td>\n",
       "      <td>69</td>\n",
       "      <td>90</td>\n",
       "      <td>88</td>\n",
       "    </tr>\n",
       "    <tr>\n",
       "      <th>2</th>\n",
       "      <td>1</td>\n",
       "      <td>group B</td>\n",
       "      <td>master's degree</td>\n",
       "      <td>1</td>\n",
       "      <td>1</td>\n",
       "      <td>90</td>\n",
       "      <td>95</td>\n",
       "      <td>93</td>\n",
       "    </tr>\n",
       "    <tr>\n",
       "      <th>3</th>\n",
       "      <td>0</td>\n",
       "      <td>group A</td>\n",
       "      <td>associate's degree</td>\n",
       "      <td>0</td>\n",
       "      <td>1</td>\n",
       "      <td>47</td>\n",
       "      <td>57</td>\n",
       "      <td>44</td>\n",
       "    </tr>\n",
       "    <tr>\n",
       "      <th>4</th>\n",
       "      <td>0</td>\n",
       "      <td>group C</td>\n",
       "      <td>some college</td>\n",
       "      <td>1</td>\n",
       "      <td>1</td>\n",
       "      <td>76</td>\n",
       "      <td>78</td>\n",
       "      <td>75</td>\n",
       "    </tr>\n",
       "    <tr>\n",
       "      <th>...</th>\n",
       "      <td>...</td>\n",
       "      <td>...</td>\n",
       "      <td>...</td>\n",
       "      <td>...</td>\n",
       "      <td>...</td>\n",
       "      <td>...</td>\n",
       "      <td>...</td>\n",
       "      <td>...</td>\n",
       "    </tr>\n",
       "    <tr>\n",
       "      <th>995</th>\n",
       "      <td>1</td>\n",
       "      <td>group E</td>\n",
       "      <td>master's degree</td>\n",
       "      <td>1</td>\n",
       "      <td>0</td>\n",
       "      <td>88</td>\n",
       "      <td>99</td>\n",
       "      <td>95</td>\n",
       "    </tr>\n",
       "    <tr>\n",
       "      <th>996</th>\n",
       "      <td>0</td>\n",
       "      <td>group C</td>\n",
       "      <td>high school</td>\n",
       "      <td>0</td>\n",
       "      <td>1</td>\n",
       "      <td>62</td>\n",
       "      <td>55</td>\n",
       "      <td>55</td>\n",
       "    </tr>\n",
       "    <tr>\n",
       "      <th>997</th>\n",
       "      <td>1</td>\n",
       "      <td>group C</td>\n",
       "      <td>high school</td>\n",
       "      <td>0</td>\n",
       "      <td>0</td>\n",
       "      <td>59</td>\n",
       "      <td>71</td>\n",
       "      <td>65</td>\n",
       "    </tr>\n",
       "    <tr>\n",
       "      <th>998</th>\n",
       "      <td>1</td>\n",
       "      <td>group D</td>\n",
       "      <td>some college</td>\n",
       "      <td>1</td>\n",
       "      <td>0</td>\n",
       "      <td>68</td>\n",
       "      <td>78</td>\n",
       "      <td>77</td>\n",
       "    </tr>\n",
       "    <tr>\n",
       "      <th>999</th>\n",
       "      <td>1</td>\n",
       "      <td>group D</td>\n",
       "      <td>some college</td>\n",
       "      <td>0</td>\n",
       "      <td>1</td>\n",
       "      <td>77</td>\n",
       "      <td>86</td>\n",
       "      <td>86</td>\n",
       "    </tr>\n",
       "  </tbody>\n",
       "</table>\n",
       "<p>1000 rows × 8 columns</p>\n",
       "</div>"
      ],
      "text/plain": [
       "     gender race/ethnicity parental level of education  lunch  \\\n",
       "0         1        group B           bachelor's degree      1   \n",
       "1         1        group C                some college      1   \n",
       "2         1        group B             master's degree      1   \n",
       "3         0        group A          associate's degree      0   \n",
       "4         0        group C                some college      1   \n",
       "..      ...            ...                         ...    ...   \n",
       "995       1        group E             master's degree      1   \n",
       "996       0        group C                 high school      0   \n",
       "997       1        group C                 high school      0   \n",
       "998       1        group D                some college      1   \n",
       "999       1        group D                some college      0   \n",
       "\n",
       "     test preparation course  math score  reading score  writing score  \n",
       "0                          1          72             72             74  \n",
       "1                          0          69             90             88  \n",
       "2                          1          90             95             93  \n",
       "3                          1          47             57             44  \n",
       "4                          1          76             78             75  \n",
       "..                       ...         ...            ...            ...  \n",
       "995                        0          88             99             95  \n",
       "996                        1          62             55             55  \n",
       "997                        0          59             71             65  \n",
       "998                        0          68             78             77  \n",
       "999                        1          77             86             86  \n",
       "\n",
       "[1000 rows x 8 columns]"
      ]
     },
     "execution_count": 6,
     "metadata": {},
     "output_type": "execute_result"
    }
   ],
   "source": [
    "df['gender'].replace('male',0,inplace=True)\n",
    "df['gender'].replace('female',1,inplace=True)\n",
    "df['lunch'].replace('free/reduced',0,inplace=True)\n",
    "df['lunch'].replace('standard',1,inplace=True)\n",
    "df['test preparation course'].replace('completed',0,inplace=True)\n",
    "df['test preparation course'].replace('none',1,inplace=True)\n",
    "df"
   ]
  },
  {
   "cell_type": "markdown",
   "metadata": {
    "papermill": {
     "duration": 0.051548,
     "end_time": "2020-10-31T04:56:55.439369",
     "exception": false,
     "start_time": "2020-10-31T04:56:55.387821",
     "status": "completed"
    },
    "tags": []
   },
   "source": [
    "* Race Numeration"
   ]
  },
  {
   "cell_type": "code",
   "execution_count": 7,
   "metadata": {
    "execution": {
     "iopub.execute_input": "2020-10-31T04:56:55.549725Z",
     "iopub.status.busy": "2020-10-31T04:56:55.548929Z",
     "iopub.status.idle": "2020-10-31T04:56:55.573155Z",
     "shell.execute_reply": "2020-10-31T04:56:55.573736Z"
    },
    "papermill": {
     "duration": 0.082731,
     "end_time": "2020-10-31T04:56:55.573891",
     "exception": false,
     "start_time": "2020-10-31T04:56:55.491160",
     "status": "completed"
    },
    "tags": []
   },
   "outputs": [
    {
     "name": "stdout",
     "output_type": "stream",
     "text": [
      "89\n",
      "190\n",
      "319\n",
      "262\n",
      "140\n",
      "0\n",
      "0\n",
      "0\n",
      "0\n",
      "0\n",
      "0\n",
      "0\n",
      "0\n",
      "0\n",
      "0\n",
      "0\n",
      "0\n",
      "0\n",
      "0\n",
      "0\n",
      "0\n",
      "0\n",
      "0\n",
      "0\n",
      "0\n",
      "0\n"
     ]
    }
   ],
   "source": [
    "for i in range(65,91):\n",
    "    st='group '\n",
    "    st+=chr(i)\n",
    "    print(len(df[df['race/ethnicity']==st]))"
   ]
  },
  {
   "cell_type": "markdown",
   "metadata": {
    "papermill": {
     "duration": 0.051531,
     "end_time": "2020-10-31T04:56:55.677143",
     "exception": false,
     "start_time": "2020-10-31T04:56:55.625612",
     "status": "completed"
    },
    "tags": []
   },
   "source": [
    "There are 5 different races.changing them into numeric values"
   ]
  },
  {
   "cell_type": "markdown",
   "metadata": {
    "papermill": {
     "duration": 0.051632,
     "end_time": "2020-10-31T04:56:55.780598",
     "exception": false,
     "start_time": "2020-10-31T04:56:55.728966",
     "status": "completed"
    },
    "tags": []
   },
   "source": [
    "1. group A - 0\n",
    "2. group B - 1\n",
    "3. group C - 2\n",
    "4. group D - 3\n",
    "5. group E - 4"
   ]
  },
  {
   "cell_type": "code",
   "execution_count": 8,
   "metadata": {
    "execution": {
     "iopub.execute_input": "2020-10-31T04:56:55.908601Z",
     "iopub.status.busy": "2020-10-31T04:56:55.907577Z",
     "iopub.status.idle": "2020-10-31T04:56:55.913322Z",
     "shell.execute_reply": "2020-10-31T04:56:55.912377Z"
    },
    "papermill": {
     "duration": 0.081525,
     "end_time": "2020-10-31T04:56:55.913491",
     "exception": false,
     "start_time": "2020-10-31T04:56:55.831966",
     "status": "completed"
    },
    "tags": []
   },
   "outputs": [
    {
     "data": {
      "text/html": [
       "<div>\n",
       "<style scoped>\n",
       "    .dataframe tbody tr th:only-of-type {\n",
       "        vertical-align: middle;\n",
       "    }\n",
       "\n",
       "    .dataframe tbody tr th {\n",
       "        vertical-align: top;\n",
       "    }\n",
       "\n",
       "    .dataframe thead th {\n",
       "        text-align: right;\n",
       "    }\n",
       "</style>\n",
       "<table border=\"1\" class=\"dataframe\">\n",
       "  <thead>\n",
       "    <tr style=\"text-align: right;\">\n",
       "      <th></th>\n",
       "      <th>gender</th>\n",
       "      <th>race/ethnicity</th>\n",
       "      <th>parental level of education</th>\n",
       "      <th>lunch</th>\n",
       "      <th>test preparation course</th>\n",
       "      <th>math score</th>\n",
       "      <th>reading score</th>\n",
       "      <th>writing score</th>\n",
       "    </tr>\n",
       "  </thead>\n",
       "  <tbody>\n",
       "    <tr>\n",
       "      <th>0</th>\n",
       "      <td>1</td>\n",
       "      <td>1</td>\n",
       "      <td>bachelor's degree</td>\n",
       "      <td>1</td>\n",
       "      <td>1</td>\n",
       "      <td>72</td>\n",
       "      <td>72</td>\n",
       "      <td>74</td>\n",
       "    </tr>\n",
       "    <tr>\n",
       "      <th>1</th>\n",
       "      <td>1</td>\n",
       "      <td>2</td>\n",
       "      <td>some college</td>\n",
       "      <td>1</td>\n",
       "      <td>0</td>\n",
       "      <td>69</td>\n",
       "      <td>90</td>\n",
       "      <td>88</td>\n",
       "    </tr>\n",
       "    <tr>\n",
       "      <th>2</th>\n",
       "      <td>1</td>\n",
       "      <td>1</td>\n",
       "      <td>master's degree</td>\n",
       "      <td>1</td>\n",
       "      <td>1</td>\n",
       "      <td>90</td>\n",
       "      <td>95</td>\n",
       "      <td>93</td>\n",
       "    </tr>\n",
       "    <tr>\n",
       "      <th>3</th>\n",
       "      <td>0</td>\n",
       "      <td>0</td>\n",
       "      <td>associate's degree</td>\n",
       "      <td>0</td>\n",
       "      <td>1</td>\n",
       "      <td>47</td>\n",
       "      <td>57</td>\n",
       "      <td>44</td>\n",
       "    </tr>\n",
       "    <tr>\n",
       "      <th>4</th>\n",
       "      <td>0</td>\n",
       "      <td>2</td>\n",
       "      <td>some college</td>\n",
       "      <td>1</td>\n",
       "      <td>1</td>\n",
       "      <td>76</td>\n",
       "      <td>78</td>\n",
       "      <td>75</td>\n",
       "    </tr>\n",
       "    <tr>\n",
       "      <th>...</th>\n",
       "      <td>...</td>\n",
       "      <td>...</td>\n",
       "      <td>...</td>\n",
       "      <td>...</td>\n",
       "      <td>...</td>\n",
       "      <td>...</td>\n",
       "      <td>...</td>\n",
       "      <td>...</td>\n",
       "    </tr>\n",
       "    <tr>\n",
       "      <th>995</th>\n",
       "      <td>1</td>\n",
       "      <td>4</td>\n",
       "      <td>master's degree</td>\n",
       "      <td>1</td>\n",
       "      <td>0</td>\n",
       "      <td>88</td>\n",
       "      <td>99</td>\n",
       "      <td>95</td>\n",
       "    </tr>\n",
       "    <tr>\n",
       "      <th>996</th>\n",
       "      <td>0</td>\n",
       "      <td>2</td>\n",
       "      <td>high school</td>\n",
       "      <td>0</td>\n",
       "      <td>1</td>\n",
       "      <td>62</td>\n",
       "      <td>55</td>\n",
       "      <td>55</td>\n",
       "    </tr>\n",
       "    <tr>\n",
       "      <th>997</th>\n",
       "      <td>1</td>\n",
       "      <td>2</td>\n",
       "      <td>high school</td>\n",
       "      <td>0</td>\n",
       "      <td>0</td>\n",
       "      <td>59</td>\n",
       "      <td>71</td>\n",
       "      <td>65</td>\n",
       "    </tr>\n",
       "    <tr>\n",
       "      <th>998</th>\n",
       "      <td>1</td>\n",
       "      <td>3</td>\n",
       "      <td>some college</td>\n",
       "      <td>1</td>\n",
       "      <td>0</td>\n",
       "      <td>68</td>\n",
       "      <td>78</td>\n",
       "      <td>77</td>\n",
       "    </tr>\n",
       "    <tr>\n",
       "      <th>999</th>\n",
       "      <td>1</td>\n",
       "      <td>3</td>\n",
       "      <td>some college</td>\n",
       "      <td>0</td>\n",
       "      <td>1</td>\n",
       "      <td>77</td>\n",
       "      <td>86</td>\n",
       "      <td>86</td>\n",
       "    </tr>\n",
       "  </tbody>\n",
       "</table>\n",
       "<p>1000 rows × 8 columns</p>\n",
       "</div>"
      ],
      "text/plain": [
       "     gender  race/ethnicity parental level of education  lunch  \\\n",
       "0         1               1           bachelor's degree      1   \n",
       "1         1               2                some college      1   \n",
       "2         1               1             master's degree      1   \n",
       "3         0               0          associate's degree      0   \n",
       "4         0               2                some college      1   \n",
       "..      ...             ...                         ...    ...   \n",
       "995       1               4             master's degree      1   \n",
       "996       0               2                 high school      0   \n",
       "997       1               2                 high school      0   \n",
       "998       1               3                some college      1   \n",
       "999       1               3                some college      0   \n",
       "\n",
       "     test preparation course  math score  reading score  writing score  \n",
       "0                          1          72             72             74  \n",
       "1                          0          69             90             88  \n",
       "2                          1          90             95             93  \n",
       "3                          1          47             57             44  \n",
       "4                          1          76             78             75  \n",
       "..                       ...         ...            ...            ...  \n",
       "995                        0          88             99             95  \n",
       "996                        1          62             55             55  \n",
       "997                        0          59             71             65  \n",
       "998                        0          68             78             77  \n",
       "999                        1          77             86             86  \n",
       "\n",
       "[1000 rows x 8 columns]"
      ]
     },
     "execution_count": 8,
     "metadata": {},
     "output_type": "execute_result"
    }
   ],
   "source": [
    "groups=[]\n",
    "for i in range(65,70):\n",
    "    st='group '\n",
    "    st+=chr(i)\n",
    "    groups.append(st)\n",
    "    df['race/ethnicity'].replace(st,i-65,inplace=True)\n",
    "df"
   ]
  },
  {
   "cell_type": "markdown",
   "metadata": {
    "papermill": {
     "duration": 0.054132,
     "end_time": "2020-10-31T04:56:56.020891",
     "exception": false,
     "start_time": "2020-10-31T04:56:55.966759",
     "status": "completed"
    },
    "tags": []
   },
   "source": [
    "* Parental education numeration"
   ]
  },
  {
   "cell_type": "markdown",
   "metadata": {
    "papermill": {
     "duration": 0.052825,
     "end_time": "2020-10-31T04:56:56.128517",
     "exception": false,
     "start_time": "2020-10-31T04:56:56.075692",
     "status": "completed"
    },
    "tags": []
   },
   "source": [
    "1. high school - 0\n",
    "2. some high school - 0\n",
    "3. some college - 1\n",
    "4. bachelor's degree - 2\n",
    "5. master's degree - 3\n",
    "6. associate's degree - 4"
   ]
  },
  {
   "cell_type": "code",
   "execution_count": 9,
   "metadata": {
    "execution": {
     "iopub.execute_input": "2020-10-31T04:56:56.252696Z",
     "iopub.status.busy": "2020-10-31T04:56:56.248368Z",
     "iopub.status.idle": "2020-10-31T04:56:56.262931Z",
     "shell.execute_reply": "2020-10-31T04:56:56.262348Z"
    },
    "papermill": {
     "duration": 0.081561,
     "end_time": "2020-10-31T04:56:56.263048",
     "exception": false,
     "start_time": "2020-10-31T04:56:56.181487",
     "status": "completed"
    },
    "tags": []
   },
   "outputs": [
    {
     "data": {
      "text/html": [
       "<div>\n",
       "<style scoped>\n",
       "    .dataframe tbody tr th:only-of-type {\n",
       "        vertical-align: middle;\n",
       "    }\n",
       "\n",
       "    .dataframe tbody tr th {\n",
       "        vertical-align: top;\n",
       "    }\n",
       "\n",
       "    .dataframe thead th {\n",
       "        text-align: right;\n",
       "    }\n",
       "</style>\n",
       "<table border=\"1\" class=\"dataframe\">\n",
       "  <thead>\n",
       "    <tr style=\"text-align: right;\">\n",
       "      <th></th>\n",
       "      <th>gender</th>\n",
       "      <th>race/ethnicity</th>\n",
       "      <th>parental level of education</th>\n",
       "      <th>lunch</th>\n",
       "      <th>test preparation course</th>\n",
       "      <th>math score</th>\n",
       "      <th>reading score</th>\n",
       "      <th>writing score</th>\n",
       "    </tr>\n",
       "  </thead>\n",
       "  <tbody>\n",
       "    <tr>\n",
       "      <th>0</th>\n",
       "      <td>1</td>\n",
       "      <td>1</td>\n",
       "      <td>3</td>\n",
       "      <td>1</td>\n",
       "      <td>1</td>\n",
       "      <td>72</td>\n",
       "      <td>72</td>\n",
       "      <td>74</td>\n",
       "    </tr>\n",
       "    <tr>\n",
       "      <th>1</th>\n",
       "      <td>1</td>\n",
       "      <td>2</td>\n",
       "      <td>1</td>\n",
       "      <td>1</td>\n",
       "      <td>0</td>\n",
       "      <td>69</td>\n",
       "      <td>90</td>\n",
       "      <td>88</td>\n",
       "    </tr>\n",
       "    <tr>\n",
       "      <th>2</th>\n",
       "      <td>1</td>\n",
       "      <td>1</td>\n",
       "      <td>4</td>\n",
       "      <td>1</td>\n",
       "      <td>1</td>\n",
       "      <td>90</td>\n",
       "      <td>95</td>\n",
       "      <td>93</td>\n",
       "    </tr>\n",
       "    <tr>\n",
       "      <th>3</th>\n",
       "      <td>0</td>\n",
       "      <td>0</td>\n",
       "      <td>2</td>\n",
       "      <td>0</td>\n",
       "      <td>1</td>\n",
       "      <td>47</td>\n",
       "      <td>57</td>\n",
       "      <td>44</td>\n",
       "    </tr>\n",
       "    <tr>\n",
       "      <th>4</th>\n",
       "      <td>0</td>\n",
       "      <td>2</td>\n",
       "      <td>1</td>\n",
       "      <td>1</td>\n",
       "      <td>1</td>\n",
       "      <td>76</td>\n",
       "      <td>78</td>\n",
       "      <td>75</td>\n",
       "    </tr>\n",
       "    <tr>\n",
       "      <th>...</th>\n",
       "      <td>...</td>\n",
       "      <td>...</td>\n",
       "      <td>...</td>\n",
       "      <td>...</td>\n",
       "      <td>...</td>\n",
       "      <td>...</td>\n",
       "      <td>...</td>\n",
       "      <td>...</td>\n",
       "    </tr>\n",
       "    <tr>\n",
       "      <th>995</th>\n",
       "      <td>1</td>\n",
       "      <td>4</td>\n",
       "      <td>4</td>\n",
       "      <td>1</td>\n",
       "      <td>0</td>\n",
       "      <td>88</td>\n",
       "      <td>99</td>\n",
       "      <td>95</td>\n",
       "    </tr>\n",
       "    <tr>\n",
       "      <th>996</th>\n",
       "      <td>0</td>\n",
       "      <td>2</td>\n",
       "      <td>0</td>\n",
       "      <td>0</td>\n",
       "      <td>1</td>\n",
       "      <td>62</td>\n",
       "      <td>55</td>\n",
       "      <td>55</td>\n",
       "    </tr>\n",
       "    <tr>\n",
       "      <th>997</th>\n",
       "      <td>1</td>\n",
       "      <td>2</td>\n",
       "      <td>0</td>\n",
       "      <td>0</td>\n",
       "      <td>0</td>\n",
       "      <td>59</td>\n",
       "      <td>71</td>\n",
       "      <td>65</td>\n",
       "    </tr>\n",
       "    <tr>\n",
       "      <th>998</th>\n",
       "      <td>1</td>\n",
       "      <td>3</td>\n",
       "      <td>1</td>\n",
       "      <td>1</td>\n",
       "      <td>0</td>\n",
       "      <td>68</td>\n",
       "      <td>78</td>\n",
       "      <td>77</td>\n",
       "    </tr>\n",
       "    <tr>\n",
       "      <th>999</th>\n",
       "      <td>1</td>\n",
       "      <td>3</td>\n",
       "      <td>1</td>\n",
       "      <td>0</td>\n",
       "      <td>1</td>\n",
       "      <td>77</td>\n",
       "      <td>86</td>\n",
       "      <td>86</td>\n",
       "    </tr>\n",
       "  </tbody>\n",
       "</table>\n",
       "<p>1000 rows × 8 columns</p>\n",
       "</div>"
      ],
      "text/plain": [
       "     gender  race/ethnicity  parental level of education  lunch  \\\n",
       "0         1               1                            3      1   \n",
       "1         1               2                            1      1   \n",
       "2         1               1                            4      1   \n",
       "3         0               0                            2      0   \n",
       "4         0               2                            1      1   \n",
       "..      ...             ...                          ...    ...   \n",
       "995       1               4                            4      1   \n",
       "996       0               2                            0      0   \n",
       "997       1               2                            0      0   \n",
       "998       1               3                            1      1   \n",
       "999       1               3                            1      0   \n",
       "\n",
       "     test preparation course  math score  reading score  writing score  \n",
       "0                          1          72             72             74  \n",
       "1                          0          69             90             88  \n",
       "2                          1          90             95             93  \n",
       "3                          1          47             57             44  \n",
       "4                          1          76             78             75  \n",
       "..                       ...         ...            ...            ...  \n",
       "995                        0          88             99             95  \n",
       "996                        1          62             55             55  \n",
       "997                        0          59             71             65  \n",
       "998                        0          68             78             77  \n",
       "999                        1          77             86             86  \n",
       "\n",
       "[1000 rows x 8 columns]"
      ]
     },
     "execution_count": 9,
     "metadata": {},
     "output_type": "execute_result"
    }
   ],
   "source": [
    "df['parental level of education'].replace('high school',0,inplace=True)\n",
    "df['parental level of education'].replace('some high school',0,inplace=True)\n",
    "df['parental level of education'].replace('some college',1,inplace=True)\n",
    "df['parental level of education'].replace(\"associate's degree\",2,inplace=True)\n",
    "df['parental level of education'].replace(\"master's degree\",4,inplace=True)\n",
    "df['parental level of education'].replace(\"bachelor's degree\",3,inplace=True)\n",
    "df"
   ]
  },
  {
   "cell_type": "markdown",
   "metadata": {
    "papermill": {
     "duration": 0.053677,
     "end_time": "2020-10-31T04:56:56.370487",
     "exception": false,
     "start_time": "2020-10-31T04:56:56.316810",
     "status": "completed"
    },
    "tags": []
   },
   "source": [
    "Total data has been numerated now.\n",
    "We can perform EDA now."
   ]
  },
  {
   "cell_type": "markdown",
   "metadata": {
    "papermill": {
     "duration": 0.053967,
     "end_time": "2020-10-31T04:56:56.478132",
     "exception": false,
     "start_time": "2020-10-31T04:56:56.424165",
     "status": "completed"
    },
    "tags": []
   },
   "source": [
    "# EDA : EXPLORATORY DATA ANALYSIS"
   ]
  },
  {
   "cell_type": "markdown",
   "metadata": {
    "papermill": {
     "duration": 0.053538,
     "end_time": "2020-10-31T04:56:56.585838",
     "exception": false,
     "start_time": "2020-10-31T04:56:56.532300",
     "status": "completed"
    },
    "tags": []
   },
   "source": [
    "* gender"
   ]
  },
  {
   "cell_type": "code",
   "execution_count": 10,
   "metadata": {
    "execution": {
     "iopub.execute_input": "2020-10-31T04:56:56.698716Z",
     "iopub.status.busy": "2020-10-31T04:56:56.697814Z",
     "iopub.status.idle": "2020-10-31T04:56:56.699956Z",
     "shell.execute_reply": "2020-10-31T04:56:56.700563Z"
    },
    "papermill": {
     "duration": 0.061069,
     "end_time": "2020-10-31T04:56:56.700701",
     "exception": false,
     "start_time": "2020-10-31T04:56:56.639632",
     "status": "completed"
    },
    "tags": []
   },
   "outputs": [],
   "source": [
    "sub=['math','reading','writing']"
   ]
  },
  {
   "cell_type": "code",
   "execution_count": 11,
   "metadata": {
    "execution": {
     "iopub.execute_input": "2020-10-31T04:56:56.814841Z",
     "iopub.status.busy": "2020-10-31T04:56:56.814064Z",
     "iopub.status.idle": "2020-10-31T04:56:56.838706Z",
     "shell.execute_reply": "2020-10-31T04:56:56.837893Z"
    },
    "papermill": {
     "duration": 0.084084,
     "end_time": "2020-10-31T04:56:56.838858",
     "exception": false,
     "start_time": "2020-10-31T04:56:56.754774",
     "status": "completed"
    },
    "tags": []
   },
   "outputs": [
    {
     "name": "stdout",
     "output_type": "stream",
     "text": [
      "no. of girl students :  518\n",
      "no. of boy students :  482\n"
     ]
    }
   ],
   "source": [
    "print('no. of girl students : ',len(df[df['gender']==1]))\n",
    "print('no. of boy students : ',len(df[df['gender']==0]))"
   ]
  },
  {
   "cell_type": "markdown",
   "metadata": {
    "papermill": {
     "duration": 0.054833,
     "end_time": "2020-10-31T04:56:56.948677",
     "exception": false,
     "start_time": "2020-10-31T04:56:56.893844",
     "status": "completed"
    },
    "tags": []
   },
   "source": [
    "marks per subject :\n"
   ]
  },
  {
   "cell_type": "code",
   "execution_count": 12,
   "metadata": {
    "execution": {
     "iopub.execute_input": "2020-10-31T04:56:57.102773Z",
     "iopub.status.busy": "2020-10-31T04:56:57.101795Z",
     "iopub.status.idle": "2020-10-31T04:56:57.294517Z",
     "shell.execute_reply": "2020-10-31T04:56:57.293775Z"
    },
    "papermill": {
     "duration": 0.286678,
     "end_time": "2020-10-31T04:56:57.294638",
     "exception": false,
     "start_time": "2020-10-31T04:56:57.007960",
     "status": "completed"
    },
    "tags": []
   },
   "outputs": [
    {
     "name": "stdout",
     "output_type": "stream",
     "text": [
      "[68.72821576763485, 65.47302904564316, 63.31120331950208]\n",
      "[63.633204633204635, 72.60810810810811, 72.46718146718146]\n"
     ]
    },
    {
     "data": {
      "image/png": "[encoded data removed]",
      "text/plain": [
       "<Figure size 432x288 with 1 Axes>"
      ]
     },
     "metadata": {
      "needs_background": "light"
     },
     "output_type": "display_data"
    }
   ],
   "source": [
    "\n",
    "boy=[]\n",
    "girl=[]\n",
    "mrk=df[df['gender']==0]\n",
    "boy.append(np.mean(mrk['math score']))\n",
    "boy.append(np.mean(mrk['reading score']))\n",
    "boy.append(np.mean(mrk['writing score']))\n",
    "mrk=df[df['gender']==1]\n",
    "girl.append(np.mean(mrk['math score']))\n",
    "girl.append(np.mean(mrk['reading score']))\n",
    "girl.append(np.mean(mrk['writing score']))\n",
    "print(boy)\n",
    "print(girl)\n",
    "plt.title(' average score per subject')\n",
    "plt.ylabel('avreage score')\n",
    "plt.xlabel('subjects')\n",
    "plt.plot(sub,boy,label='boy')\n",
    "plt.legend()\n",
    "plt.plot(sub,girl,label='girl')\n",
    "plt.legend()\n",
    "plt.show()"
   ]
  },
  {
   "cell_type": "markdown",
   "metadata": {
    "papermill": {
     "duration": 0.056242,
     "end_time": "2020-10-31T04:56:57.407161",
     "exception": false,
     "start_time": "2020-10-31T04:56:57.350919",
     "status": "completed"
    },
    "tags": []
   },
   "source": [
    "Data shows boys have good computational skill whereas girls possess well social interaction skills.\n",
    "\n",
    "It has also proven by many scientists biologically."
   ]
  },
  {
   "cell_type": "markdown",
   "metadata": {
    "papermill": {
     "duration": 0.056175,
     "end_time": "2020-10-31T04:56:57.518990",
     "exception": false,
     "start_time": "2020-10-31T04:56:57.462815",
     "status": "completed"
    },
    "tags": []
   },
   "source": [
    "* **race/ethnicity**"
   ]
  },
  {
   "cell_type": "markdown",
   "metadata": {
    "papermill": {
     "duration": 0.056421,
     "end_time": "2020-10-31T04:56:57.631938",
     "exception": false,
     "start_time": "2020-10-31T04:56:57.575517",
     "status": "completed"
    },
    "tags": []
   },
   "source": [
    "Math's Score"
   ]
  },
  {
   "cell_type": "code",
   "execution_count": 13,
   "metadata": {
    "execution": {
     "iopub.execute_input": "2020-10-31T04:56:57.758084Z",
     "iopub.status.busy": "2020-10-31T04:56:57.757169Z",
     "iopub.status.idle": "2020-10-31T04:56:57.761118Z",
     "shell.execute_reply": "2020-10-31T04:56:57.762250Z"
    },
    "papermill": {
     "duration": 0.07431,
     "end_time": "2020-10-31T04:56:57.762440",
     "exception": false,
     "start_time": "2020-10-31T04:56:57.688130",
     "status": "completed"
    },
    "tags": []
   },
   "outputs": [
    {
     "name": "stdout",
     "output_type": "stream",
     "text": [
      "group A  :    61.62921348314607\n",
      "group B  :    63.45263157894737\n",
      "group C  :    64.46394984326018\n",
      "group D  :    67.36259541984732\n",
      "group E  :    73.82142857142857\n"
     ]
    }
   ],
   "source": [
    "math=[]\n",
    "for i in range(5):\n",
    "    data=df[df['race/ethnicity']==i]\n",
    "    tot_sum=sum(data['math score'])\n",
    "    st='group '\n",
    "    st+=chr(i+65)\n",
    "    print(st ,' :   ',tot_sum/len(data))\n",
    "    math.append(tot_sum/len(data))"
   ]
  },
  {
   "cell_type": "markdown",
   "metadata": {
    "papermill": {
     "duration": 0.056626,
     "end_time": "2020-10-31T04:56:57.876176",
     "exception": false,
     "start_time": "2020-10-31T04:56:57.819550",
     "status": "completed"
    },
    "tags": []
   },
   "source": [
    "Reading's score"
   ]
  },
  {
   "cell_type": "code",
   "execution_count": 14,
   "metadata": {
    "execution": {
     "iopub.execute_input": "2020-10-31T04:56:58.009224Z",
     "iopub.status.busy": "2020-10-31T04:56:58.008378Z",
     "iopub.status.idle": "2020-10-31T04:56:58.012364Z",
     "shell.execute_reply": "2020-10-31T04:56:58.011636Z"
    },
    "papermill": {
     "duration": 0.073464,
     "end_time": "2020-10-31T04:56:58.012513",
     "exception": false,
     "start_time": "2020-10-31T04:56:57.939049",
     "status": "completed"
    },
    "tags": []
   },
   "outputs": [
    {
     "name": "stdout",
     "output_type": "stream",
     "text": [
      "group A  :    64.67415730337079\n",
      "group B  :    67.35263157894737\n",
      "group C  :    69.10344827586206\n",
      "group D  :    70.03053435114504\n",
      "group E  :    73.02857142857142\n"
     ]
    }
   ],
   "source": [
    "reading=[]\n",
    "for i in range(5):\n",
    "    data=df[df['race/ethnicity']==i]\n",
    "    tot_sum=sum(data['reading score'])\n",
    "    st='group '\n",
    "    st+=chr(i+65)\n",
    "    print(st ,' :   ',tot_sum/len(data))\n",
    "    reading.append(tot_sum/len(data))"
   ]
  },
  {
   "cell_type": "markdown",
   "metadata": {
    "papermill": {
     "duration": 0.057305,
     "end_time": "2020-10-31T04:56:58.127893",
     "exception": false,
     "start_time": "2020-10-31T04:56:58.070588",
     "status": "completed"
    },
    "tags": []
   },
   "source": [
    "Writing score"
   ]
  },
  {
   "cell_type": "code",
   "execution_count": 15,
   "metadata": {
    "execution": {
     "iopub.execute_input": "2020-10-31T04:56:58.255442Z",
     "iopub.status.busy": "2020-10-31T04:56:58.251109Z",
     "iopub.status.idle": "2020-10-31T04:56:58.259593Z",
     "shell.execute_reply": "2020-10-31T04:56:58.260368Z"
    },
    "papermill": {
     "duration": 0.074712,
     "end_time": "2020-10-31T04:56:58.260566",
     "exception": false,
     "start_time": "2020-10-31T04:56:58.185854",
     "status": "completed"
    },
    "tags": []
   },
   "outputs": [
    {
     "name": "stdout",
     "output_type": "stream",
     "text": [
      "group A  :    62.674157303370784\n",
      "group B  :    65.6\n",
      "group C  :    67.82758620689656\n",
      "group D  :    70.14503816793894\n",
      "group E  :    71.40714285714286\n"
     ]
    }
   ],
   "source": [
    "writing=[]\n",
    "for i in range(5):\n",
    "    data=df[df['race/ethnicity']==i]\n",
    "    tot_sum=sum(data['writing score'])\n",
    "    st='group '\n",
    "    st+=chr(i+65)\n",
    "    print(st ,' :   ',tot_sum/len(data))\n",
    "    writing.append(tot_sum/len(data))"
   ]
  },
  {
   "cell_type": "markdown",
   "metadata": {
    "papermill": {
     "duration": 0.096167,
     "end_time": "2020-10-31T04:56:58.414913",
     "exception": false,
     "start_time": "2020-10-31T04:56:58.318746",
     "status": "completed"
    },
    "tags": []
   },
   "source": [
    "Total score"
   ]
  },
  {
   "cell_type": "code",
   "execution_count": 16,
   "metadata": {
    "execution": {
     "iopub.execute_input": "2020-10-31T04:56:58.539680Z",
     "iopub.status.busy": "2020-10-31T04:56:58.538880Z",
     "iopub.status.idle": "2020-10-31T04:56:58.543006Z",
     "shell.execute_reply": "2020-10-31T04:56:58.542179Z"
    },
    "papermill": {
     "duration": 0.069797,
     "end_time": "2020-10-31T04:56:58.543160",
     "exception": false,
     "start_time": "2020-10-31T04:56:58.473363",
     "status": "completed"
    },
    "tags": []
   },
   "outputs": [
    {
     "name": "stdout",
     "output_type": "stream",
     "text": [
      "group A    :     62.99250936329588\n",
      "group B    :     65.46842105263157\n",
      "group C    :     67.13166144200626\n",
      "group D    :     69.1793893129771\n",
      "group E    :     72.75238095238096\n"
     ]
    }
   ],
   "source": [
    "tot_score=[]\n",
    "for i in range(5):\n",
    "    print(groups[i],'   :    ',(math[i]+reading[i]+writing[i])/3)\n",
    "    tot_score.append((math[i]+reading[i]+writing[i])/3)"
   ]
  },
  {
   "cell_type": "markdown",
   "metadata": {
    "papermill": {
     "duration": 0.058233,
     "end_time": "2020-10-31T04:56:58.660962",
     "exception": false,
     "start_time": "2020-10-31T04:56:58.602729",
     "status": "completed"
    },
    "tags": []
   },
   "source": [
    "Score comparison between racses"
   ]
  },
  {
   "cell_type": "code",
   "execution_count": 17,
   "metadata": {
    "execution": {
     "iopub.execute_input": "2020-10-31T04:56:58.865925Z",
     "iopub.status.busy": "2020-10-31T04:56:58.786338Z",
     "iopub.status.idle": "2020-10-31T04:56:59.027321Z",
     "shell.execute_reply": "2020-10-31T04:56:59.026598Z"
    },
    "papermill": {
     "duration": 0.307833,
     "end_time": "2020-10-31T04:56:59.027457",
     "exception": false,
     "start_time": "2020-10-31T04:56:58.719624",
     "status": "completed"
    },
    "tags": []
   },
   "outputs": [
    {
     "data": {
      "image/png": "[encoded data removed]",
      "text/plain": [
       "<Figure size 432x288 with 1 Axes>"
      ]
     },
     "metadata": {
      "needs_background": "light"
     },
     "output_type": "display_data"
    }
   ],
   "source": [
    "race=['group A','group B','group C','group D','group E']\n",
    "plt.plot(race,math,label='math')\n",
    "plt.legend()\n",
    "plt.plot(race,reading,label='reading')\n",
    "plt.legend()\n",
    "plt.plot(race,writing,label='writing')\n",
    "plt.legend()\n",
    "plt.plot(race,tot_score,label='total')\n",
    "plt.legend()\n",
    "plt.title('avg score vs race')\n",
    "plt.xlabel('group')\n",
    "plt.ylabel('average score')\n",
    "plt.show()"
   ]
  },
  {
   "cell_type": "markdown",
   "metadata": {
    "papermill": {
     "duration": 0.060695,
     "end_time": "2020-10-31T04:56:59.149004",
     "exception": false,
     "start_time": "2020-10-31T04:56:59.088309",
     "status": "completed"
    },
    "tags": []
   },
   "source": [
    "max and min score per race   and range lookup"
   ]
  },
  {
   "cell_type": "code",
   "execution_count": 18,
   "metadata": {
    "execution": {
     "iopub.execute_input": "2020-10-31T04:56:59.292026Z",
     "iopub.status.busy": "2020-10-31T04:56:59.278616Z",
     "iopub.status.idle": "2020-10-31T04:57:00.060803Z",
     "shell.execute_reply": "2020-10-31T04:57:00.060201Z"
    },
    "papermill": {
     "duration": 0.851565,
     "end_time": "2020-10-31T04:57:00.060947",
     "exception": false,
     "start_time": "2020-10-31T04:56:59.209382",
     "status": "completed"
    },
    "tags": []
   },
   "outputs": [
    {
     "name": "stdout",
     "output_type": "stream",
     "text": [
      "maximum score in maths group A is :   100\n",
      "minimum score in maths group A is :   28\n",
      "range  :    72\n",
      "maximum score in reading group A is :   100\n",
      "minimum score in reading group A is :   23\n",
      "range  :    77\n",
      "maximum score in writing group A is :   97\n",
      "minimum score in writing group A is :   19\n",
      "range  :    78\n",
      "average range :   75.66666666666667\n"
     ]
    },
    {
     "data": {
      "image/png": "[encoded data removed]",
      "text/plain": [
       "<Figure size 432x288 with 1 Axes>"
      ]
     },
     "metadata": {
      "needs_background": "light"
     },
     "output_type": "display_data"
    },
    {
     "name": "stdout",
     "output_type": "stream",
     "text": [
      "maximum score in maths group B is :   97\n",
      "minimum score in maths group B is :   8\n",
      "range  :    89\n",
      "maximum score in reading group B is :   97\n",
      "minimum score in reading group B is :   24\n",
      "range  :    73\n",
      "maximum score in writing group B is :   96\n",
      "minimum score in writing group B is :   15\n",
      "range  :    81\n",
      "average range :   81.0\n"
     ]
    },
    {
     "data": {
      "image/png": "[encoded data removed]",
      "text/plain": [
       "<Figure size 432x288 with 1 Axes>"
      ]
     },
     "metadata": {
      "needs_background": "light"
     },
     "output_type": "display_data"
    },
    {
     "name": "stdout",
     "output_type": "stream",
     "text": [
      "maximum score in maths group C is :   98\n",
      "minimum score in maths group C is :   0\n",
      "range  :    98\n",
      "maximum score in reading group C is :   100\n",
      "minimum score in reading group C is :   17\n",
      "range  :    83\n",
      "maximum score in writing group C is :   100\n",
      "minimum score in writing group C is :   10\n",
      "range  :    90\n",
      "average range :   90.33333333333333\n"
     ]
    },
    {
     "data": {
      "image/png": "[encoded data removed]",
      "text/plain": [
       "<Figure size 432x288 with 1 Axes>"
      ]
     },
     "metadata": {
      "needs_background": "light"
     },
     "output_type": "display_data"
    },
    {
     "name": "stdout",
     "output_type": "stream",
     "text": [
      "maximum score in maths group D is :   100\n",
      "minimum score in maths group D is :   26\n",
      "range  :    74\n",
      "maximum score in reading group D is :   100\n",
      "minimum score in reading group D is :   31\n",
      "range  :    69\n",
      "maximum score in writing group D is :   100\n",
      "minimum score in writing group D is :   32\n",
      "range  :    68\n",
      "average range :   70.33333333333333\n"
     ]
    },
    {
     "data": {
      "image/png": "[encoded data removed]",
      "text/plain": [
       "<Figure size 432x288 with 1 Axes>"
      ]
     },
     "metadata": {
      "needs_background": "light"
     },
     "output_type": "display_data"
    },
    {
     "name": "stdout",
     "output_type": "stream",
     "text": [
      "maximum score in maths group E is :   100\n",
      "minimum score in maths group E is :   30\n",
      "range  :    70\n",
      "maximum score in reading group E is :   100\n",
      "minimum score in reading group E is :   26\n",
      "range  :    74\n",
      "maximum score in writing group E is :   100\n",
      "minimum score in writing group E is :   22\n",
      "range  :    78\n",
      "average range :   74.0\n"
     ]
    },
    {
     "data": {
      "image/png": "[encoded data removed]",
      "text/plain": [
       "<Figure size 432x288 with 1 Axes>"
      ]
     },
     "metadata": {
      "needs_background": "light"
     },
     "output_type": "display_data"
    },
    {
     "data": {
      "image/png": "[encoded data removed]",
      "text/plain": [
       "<Figure size 432x288 with 1 Axes>"
      ]
     },
     "metadata": {
      "needs_background": "light"
     },
     "output_type": "display_data"
    }
   ],
   "source": [
    "\n",
    "avgg=[]\n",
    "for i in range(5):\n",
    "    data=df[df['race/ethnicity']==i]\n",
    "    pie_data=[]\n",
    "    \n",
    "    print('maximum score in maths',groups[i],'is :  ',max(data['math score']))\n",
    "    print('minimum score in maths',groups[i],'is :  ',min(data['math score']))\n",
    "    \n",
    "    print('range  :   ',max(data['math score'])-min(data['math score']))\n",
    "    pie_data.append(max(data['math score'])-min(data['math score']))\n",
    "    \n",
    "    print('maximum score in reading',groups[i],'is :  ',max(data['reading score']))\n",
    "    print('minimum score in reading',groups[i],'is :  ',min(data['reading score']))\n",
    "    \n",
    "    print('range  :   ',max(data['reading score'])-min(data['reading score']))\n",
    "    pie_data.append(max(data['reading score'])-min(data['reading score']))\n",
    "    \n",
    "    print('maximum score in writing',groups[i],'is :  ',max(data['writing score']))\n",
    "    print('minimum score in writing',groups[i],'is :  ',min(data['writing score']))\n",
    "    \n",
    "    print('range  :   ',max(data['writing score'])-min(data['writing score']))\n",
    "    pie_data.append(max(data['writing score'])-min(data['writing score']))\n",
    "    \n",
    "    avg=(max(data['math score'])-min(data['math score'])+max(data['reading score'])-min(data['reading score'])+max(data['writing score'])-min(data['writing score']))/3\n",
    "    print('average range :  ',avg)\n",
    "    avgg.append(avg)\n",
    "    plt.title('marks variation')\n",
    "    plt.bar(sub,pie_data)\n",
    "    plt.show()\n",
    "plt.bar(groups,avgg)\n",
    "plt.xticks(rotation=30)\n",
    "plt.show()"
   ]
  },
  {
   "cell_type": "markdown",
   "metadata": {
    "papermill": {
     "duration": 0.077846,
     "end_time": "2020-10-31T04:57:00.207563",
     "exception": false,
     "start_time": "2020-10-31T04:57:00.129717",
     "status": "completed"
    },
    "tags": []
   },
   "source": [
    "This plot shows us that group A,D,E students marks are not much variant but Group B,C have more vairant per subject"
   ]
  },
  {
   "cell_type": "markdown",
   "metadata": {
    "papermill": {
     "duration": 0.076129,
     "end_time": "2020-10-31T04:57:00.360100",
     "exception": false,
     "start_time": "2020-10-31T04:57:00.283971",
     "status": "completed"
    },
    "tags": []
   },
   "source": [
    "Similarly as per whole the group C has the highest variant marks which indicates a great variety of students where as group D are quite consistent over their marks indicating following a similar fashion than others"
   ]
  },
  {
   "cell_type": "markdown",
   "metadata": {
    "papermill": {
     "duration": 0.067655,
     "end_time": "2020-10-31T04:57:00.512298",
     "exception": false,
     "start_time": "2020-10-31T04:57:00.444643",
     "status": "completed"
    },
    "tags": []
   },
   "source": [
    "* **Parental Education** "
   ]
  },
  {
   "cell_type": "code",
   "execution_count": 19,
   "metadata": {
    "execution": {
     "iopub.execute_input": "2020-10-31T04:57:00.652901Z",
     "iopub.status.busy": "2020-10-31T04:57:00.651947Z",
     "iopub.status.idle": "2020-10-31T04:57:00.654744Z",
     "shell.execute_reply": "2020-10-31T04:57:00.655292Z"
    },
    "papermill": {
     "duration": 0.075705,
     "end_time": "2020-10-31T04:57:00.655471",
     "exception": false,
     "start_time": "2020-10-31T04:57:00.579766",
     "status": "completed"
    },
    "tags": []
   },
   "outputs": [],
   "source": [
    "ped=[\"high school\",\"some college\",\"associate's degree\",\"bachelor's degree\",\"master's degree\"]\n",
    "\n"
   ]
  },
  {
   "cell_type": "code",
   "execution_count": 20,
   "metadata": {
    "execution": {
     "iopub.execute_input": "2020-10-31T04:57:00.809633Z",
     "iopub.status.busy": "2020-10-31T04:57:00.800202Z",
     "iopub.status.idle": "2020-10-31T04:57:00.966576Z",
     "shell.execute_reply": "2020-10-31T04:57:00.965902Z"
    },
    "papermill": {
     "duration": 0.243192,
     "end_time": "2020-10-31T04:57:00.966704",
     "exception": false,
     "start_time": "2020-10-31T04:57:00.723512",
     "status": "completed"
    },
    "tags": []
   },
   "outputs": [
    {
     "name": "stdout",
     "output_type": "stream",
     "text": [
      "no. of parents have  high school   :    375\n",
      "no. of parents have  some college   :    226\n",
      "no. of parents have  associate's degree   :    222\n",
      "no. of parents have  bachelor's degree   :    118\n",
      "no. of parents have  master's degree   :    59\n"
     ]
    },
    {
     "data": {
      "text/plain": [
       "Text(0.5, 1.0, 'Parental Education')"
      ]
     },
     "execution_count": 20,
     "metadata": {},
     "output_type": "execute_result"
    },
    {
     "data": {
      "image/png": "[encoded data removed]",
      "text/plain": [
       "<Figure size 432x288 with 1 Axes>"
      ]
     },
     "metadata": {
      "needs_background": "light"
     },
     "output_type": "display_data"
    }
   ],
   "source": [
    "pedd=[]\n",
    "for i in range(5):\n",
    "    num=len(df[df['parental level of education']==i])\n",
    "    print('no. of parents have ',ped[i],'  :   ',num)\n",
    "    pedd.append(num)\n",
    "plt.plot(ped,pedd,label=ped,color='aqua')\n",
    "plt.xlabel('parental education type')\n",
    "plt.xticks(rotation=300)\n",
    "plt.ylabel('total count')\n",
    "plt.title('Parental Education')"
   ]
  },
  {
   "cell_type": "markdown",
   "metadata": {
    "papermill": {
     "duration": 0.070096,
     "end_time": "2020-10-31T04:57:01.106955",
     "exception": false,
     "start_time": "2020-10-31T04:57:01.036859",
     "status": "completed"
    },
    "tags": []
   },
   "source": [
    "Data stated that as per the duration of study increases number of people dicreased.\n",
    "\n",
    "That defines an average society."
   ]
  },
  {
   "cell_type": "markdown",
   "metadata": {
    "papermill": {
     "duration": 0.06901,
     "end_time": "2020-10-31T04:57:01.245622",
     "exception": false,
     "start_time": "2020-10-31T04:57:01.176612",
     "status": "completed"
    },
    "tags": []
   },
   "source": [
    "marks per subject "
   ]
  },
  {
   "cell_type": "code",
   "execution_count": 21,
   "metadata": {
    "execution": {
     "iopub.execute_input": "2020-10-31T04:57:01.390293Z",
     "iopub.status.busy": "2020-10-31T04:57:01.389259Z",
     "iopub.status.idle": "2020-10-31T04:57:01.392663Z",
     "shell.execute_reply": "2020-10-31T04:57:01.391942Z"
    },
    "papermill": {
     "duration": 0.07719,
     "end_time": "2020-10-31T04:57:01.392778",
     "exception": false,
     "start_time": "2020-10-31T04:57:01.315588",
     "status": "completed"
    },
    "tags": []
   },
   "outputs": [],
   "source": [
    "col=['r','b','g','y','k']"
   ]
  },
  {
   "cell_type": "code",
   "execution_count": 22,
   "metadata": {
    "execution": {
     "iopub.execute_input": "2020-10-31T04:57:01.555817Z",
     "iopub.status.busy": "2020-10-31T04:57:01.554720Z",
     "iopub.status.idle": "2020-10-31T04:57:01.718215Z",
     "shell.execute_reply": "2020-10-31T04:57:01.717577Z"
    },
    "papermill": {
     "duration": 0.255879,
     "end_time": "2020-10-31T04:57:01.718336",
     "exception": false,
     "start_time": "2020-10-31T04:57:01.462457",
     "status": "completed"
    },
    "tags": []
   },
   "outputs": [
    {
     "data": {
      "image/png": "[encoded data removed]",
      "text/plain": [
       "<Figure size 432x288 with 1 Axes>"
      ]
     },
     "metadata": {
      "needs_background": "light"
     },
     "output_type": "display_data"
    }
   ],
   "source": [
    "math=[]\n",
    "reading=[]\n",
    "writing=[]\n",
    "for i in range(5):\n",
    "    mrk=df[df['parental level of education']==i]\n",
    "    math.append(np.mean(mrk['math score']))\n",
    "    reading.append(np.mean(mrk['reading score']))\n",
    "    writing.append(np.mean(mrk['writing score']))\n",
    "plt.title('Parental educational level analysis')\n",
    "plt.xlabel('educational level')\n",
    "plt.ylabel('avg marks')\n",
    "plt.plot(ped,math,color='r',label='math')\n",
    "plt.legend()\n",
    "plt.plot(ped,reading,color='b',label='reading')\n",
    "plt.legend()\n",
    "plt.plot(ped,writing,color='g',label='writing')\n",
    "plt.legend()\n",
    "plt.xticks(rotation=300)\n",
    "plt.show()"
   ]
  },
  {
   "cell_type": "markdown",
   "metadata": {
    "papermill": {
     "duration": 0.070856,
     "end_time": "2020-10-31T04:57:01.860449",
     "exception": false,
     "start_time": "2020-10-31T04:57:01.789593",
     "status": "completed"
    },
    "tags": []
   },
   "source": [
    "This chart clearly stated that parental education is linearly dependant over child's marks AKA their nursing .\n",
    "Parents having good educational background helped their children to grow a studious mindset and thus score higher."
   ]
  },
  {
   "cell_type": "markdown",
   "metadata": {
    "papermill": {
     "duration": 0.070764,
     "end_time": "2020-10-31T04:57:02.003263",
     "exception": false,
     "start_time": "2020-10-31T04:57:01.932499",
     "status": "completed"
    },
    "tags": []
   },
   "source": [
    "Though the marks are increasing , still we can say getting marks in reading and writing are more easy than in maths."
   ]
  },
  {
   "cell_type": "markdown",
   "metadata": {
    "papermill": {
     "duration": 0.071874,
     "end_time": "2020-10-31T04:57:02.146400",
     "exception": false,
     "start_time": "2020-10-31T04:57:02.074526",
     "status": "completed"
    },
    "tags": []
   },
   "source": [
    "marks variety in different cases"
   ]
  },
  {
   "cell_type": "code",
   "execution_count": 23,
   "metadata": {
    "execution": {
     "iopub.execute_input": "2020-10-31T04:57:02.306500Z",
     "iopub.status.busy": "2020-10-31T04:57:02.300820Z",
     "iopub.status.idle": "2020-10-31T04:57:02.475954Z",
     "shell.execute_reply": "2020-10-31T04:57:02.475247Z"
    },
    "papermill": {
     "duration": 0.258585,
     "end_time": "2020-10-31T04:57:02.476070",
     "exception": false,
     "start_time": "2020-10-31T04:57:02.217485",
     "status": "completed"
    },
    "tags": []
   },
   "outputs": [
    {
     "data": {
      "image/png": "[encoded data removed]",
      "text/plain": [
       "<Figure size 432x288 with 1 Axes>"
      ]
     },
     "metadata": {
      "needs_background": "light"
     },
     "output_type": "display_data"
    }
   ],
   "source": [
    "math=[]\n",
    "reading=[]\n",
    "writing=[]\n",
    "plt.title('number variety')\n",
    "plt.ylabel('range')\n",
    "for i in range(5):\n",
    "    mrk=df[df['parental level of education']==i]\n",
    "    mar=[]\n",
    "    mar.append(max(mrk['math score'])-min(mrk['math score']))\n",
    "    math.append(max(mrk['math score'])-min(mrk['math score']))\n",
    "    mar.append(max(mrk['reading score'])-min(mrk['reading score']))\n",
    "    reading.append(max(mrk['reading score'])-min(mrk['reading score']))\n",
    "    mar.append(max(mrk['writing score'])-min(mrk['writing score']))\n",
    "    writing.append(max(mrk['writing score'])-min(mrk['writing score']))\n",
    "    plt.plot(sub,mar,label=ped[i])\n",
    "    plt.legend()\n"
   ]
  },
  {
   "cell_type": "code",
   "execution_count": 24,
   "metadata": {
    "execution": {
     "iopub.execute_input": "2020-10-31T04:57:02.635790Z",
     "iopub.status.busy": "2020-10-31T04:57:02.634720Z",
     "iopub.status.idle": "2020-10-31T04:57:02.788828Z",
     "shell.execute_reply": "2020-10-31T04:57:02.788080Z"
    },
    "papermill": {
     "duration": 0.240312,
     "end_time": "2020-10-31T04:57:02.788952",
     "exception": false,
     "start_time": "2020-10-31T04:57:02.548640",
     "status": "completed"
    },
    "tags": []
   },
   "outputs": [
    {
     "data": {
      "image/png": "[encoded data removed]",
      "text/plain": [
       "<Figure size 432x288 with 1 Axes>"
      ]
     },
     "metadata": {
      "needs_background": "light"
     },
     "output_type": "display_data"
    }
   ],
   "source": [
    "plt.title('marks variety')\n",
    "plt.xlabel('educational level')\n",
    "plt.ylabel('range')\n",
    "plt.plot(ped,math,label='math')\n",
    "plt.legend()\n",
    "plt.plot(ped,reading,label='reading')\n",
    "plt.legend()\n",
    "plt.plot(ped,writing,label='writing')\n",
    "plt.legend()\n",
    "plt.xticks(rotation=300)\n",
    "plt.show()"
   ]
  },
  {
   "cell_type": "markdown",
   "metadata": {
    "papermill": {
     "duration": 0.075002,
     "end_time": "2020-10-31T04:57:02.938235",
     "exception": false,
     "start_time": "2020-10-31T04:57:02.863233",
     "status": "completed"
    },
    "tags": []
   },
   "source": [
    "These 2 curves show us that parental education affects children's marks heavily.\n"
   ]
  },
  {
   "cell_type": "markdown",
   "metadata": {
    "papermill": {
     "duration": 0.073379,
     "end_time": "2020-10-31T04:57:03.085551",
     "exception": false,
     "start_time": "2020-10-31T04:57:03.012172",
     "status": "completed"
    },
    "tags": []
   },
   "source": [
    "Less educated parent can't guide their child well and that shows that some brilliant student scores very high and some scores very low creating a larger variance."
   ]
  },
  {
   "cell_type": "markdown",
   "metadata": {
    "papermill": {
     "duration": 0.073186,
     "end_time": "2020-10-31T04:57:03.233408",
     "exception": false,
     "start_time": "2020-10-31T04:57:03.160222",
     "status": "completed"
    },
    "tags": []
   },
   "source": [
    "similarly well educated parent's child have scores moreover in a narrow bound."
   ]
  },
  {
   "cell_type": "markdown",
   "metadata": {
    "papermill": {
     "duration": 0.074068,
     "end_time": "2020-10-31T04:57:03.381836",
     "exception": false,
     "start_time": "2020-10-31T04:57:03.307768",
     "status": "completed"
    },
    "tags": []
   },
   "source": [
    "We can stii say one more thing ---\n",
    "\n",
    "parents having bachelor's degree only high school degree possess different consistencies over subjects whereas others are quite similar...\n",
    "\n",
    "Consistency :  Master's Degree > College going > Associate's Degree > Bachelor's Degree > High school Degree"
   ]
  },
  {
   "cell_type": "markdown",
   "metadata": {
    "papermill": {
     "duration": 0.073355,
     "end_time": "2020-10-31T04:57:03.529265",
     "exception": false,
     "start_time": "2020-10-31T04:57:03.455910",
     "status": "completed"
    },
    "tags": []
   },
   "source": [
    "* Lunch"
   ]
  },
  {
   "cell_type": "markdown",
   "metadata": {
    "papermill": {
     "duration": 0.073027,
     "end_time": "2020-10-31T04:57:03.675748",
     "exception": false,
     "start_time": "2020-10-31T04:57:03.602721",
     "status": "completed"
    },
    "tags": []
   },
   "source": [
    "Basically lunch can help students to have more focus on studies and thus on marks .Let's check that if it can truly visualized by the data."
   ]
  },
  {
   "cell_type": "code",
   "execution_count": 25,
   "metadata": {
    "execution": {
     "iopub.execute_input": "2020-10-31T04:57:03.831153Z",
     "iopub.status.busy": "2020-10-31T04:57:03.830353Z",
     "iopub.status.idle": "2020-10-31T04:57:03.834868Z",
     "shell.execute_reply": "2020-10-31T04:57:03.834224Z"
    },
    "papermill": {
     "duration": 0.085706,
     "end_time": "2020-10-31T04:57:03.834986",
     "exception": false,
     "start_time": "2020-10-31T04:57:03.749280",
     "status": "completed"
    },
    "tags": []
   },
   "outputs": [
    {
     "name": "stdout",
     "output_type": "stream",
     "text": [
      "students get lunch : 355\n",
      "student doesen't get enough lunch : 645\n"
     ]
    }
   ],
   "source": [
    "print('students get lunch :',len(df[df['lunch']==0]))\n",
    "print(\"student doesen't get enough lunch :\",len(df[df['lunch']==1]))"
   ]
  },
  {
   "cell_type": "markdown",
   "metadata": {
    "papermill": {
     "duration": 0.073531,
     "end_time": "2020-10-31T04:57:03.983150",
     "exception": false,
     "start_time": "2020-10-31T04:57:03.909619",
     "status": "completed"
    },
    "tags": []
   },
   "source": [
    "Average Score"
   ]
  },
  {
   "cell_type": "code",
   "execution_count": 26,
   "metadata": {
    "execution": {
     "iopub.execute_input": "2020-10-31T04:57:04.146149Z",
     "iopub.status.busy": "2020-10-31T04:57:04.145114Z",
     "iopub.status.idle": "2020-10-31T04:57:04.269050Z",
     "shell.execute_reply": "2020-10-31T04:57:04.268318Z"
    },
    "papermill": {
     "duration": 0.211237,
     "end_time": "2020-10-31T04:57:04.269170",
     "exception": false,
     "start_time": "2020-10-31T04:57:04.057933",
     "status": "completed"
    },
    "tags": []
   },
   "outputs": [
    {
     "data": {
      "image/png": "[encoded data removed]",
      "text/plain": [
       "<Figure size 432x288 with 1 Axes>"
      ]
     },
     "metadata": {
      "needs_background": "light"
     },
     "output_type": "display_data"
    }
   ],
   "source": [
    "lun=['no/less','complete']\n",
    "math=[]\n",
    "reading=[]\n",
    "writing=[]\n",
    "for i in range(2):\n",
    "    dat=df[df['lunch']==i]\n",
    "    math.append(np.mean(dat['math score']))\n",
    "    reading.append(np.mean(dat['reading score']))\n",
    "    writing.append(np.mean(dat['writing score']))\n",
    "plt.title('Lunch vs. Average Score')\n",
    "plt.plot(lun,math,label='math')\n",
    "plt.plot(lun,reading,label='reading')\n",
    "plt.plot(lun,writing,label='writing')\n",
    "plt.xlabel('lunch condition')\n",
    "plt.ylabel('average score')\n",
    "plt.show()"
   ]
  },
  {
   "cell_type": "markdown",
   "metadata": {
    "papermill": {
     "duration": 0.075827,
     "end_time": "2020-10-31T04:57:04.421115",
     "exception": false,
     "start_time": "2020-10-31T04:57:04.345288",
     "status": "completed"
    },
    "tags": []
   },
   "source": [
    "Clearly visible that the previous conclusion proved here."
   ]
  },
  {
   "cell_type": "markdown",
   "metadata": {
    "papermill": {
     "duration": 0.075732,
     "end_time": "2020-10-31T04:57:04.572608",
     "exception": false,
     "start_time": "2020-10-31T04:57:04.496876",
     "status": "completed"
    },
    "tags": []
   },
   "source": [
    "Lunch vs. Parental Education "
   ]
  },
  {
   "cell_type": "code",
   "execution_count": 27,
   "metadata": {
    "execution": {
     "iopub.execute_input": "2020-10-31T04:57:04.740387Z",
     "iopub.status.busy": "2020-10-31T04:57:04.735728Z",
     "iopub.status.idle": "2020-10-31T04:57:04.995232Z",
     "shell.execute_reply": "2020-10-31T04:57:04.995800Z"
    },
    "papermill": {
     "duration": 0.347334,
     "end_time": "2020-10-31T04:57:04.995953",
     "exception": false,
     "start_time": "2020-10-31T04:57:04.648619",
     "status": "completed"
    },
    "tags": []
   },
   "outputs": [
    {
     "data": {
      "image/png": "[encoded data removed]",
      "text/plain": [
       "<Figure size 432x288 with 1 Axes>"
      ]
     },
     "metadata": {
      "needs_background": "light"
     },
     "output_type": "display_data"
    }
   ],
   "source": [
    "\n",
    "plt.title('Average score analysis on lunch and parental education(combined) ')\n",
    "plt.xlabel('subjects')\n",
    "plt.ylabel('Average score')\n",
    "for i in range(5):\n",
    "    dt=df[df['parental level of education']==i]\n",
    "    for j in range(2):\n",
    "        dt1=dt[dt['lunch']==j]\n",
    "        m=np.mean(dt1['math score'])\n",
    "        r=np.mean(dt1['reading score'])\n",
    "        w=np.mean(dt1['writing score'])\n",
    "        arr=[]\n",
    "        arr.append(m)\n",
    "        arr.append(r)\n",
    "        arr.append(w)\n",
    "        st=str(lun[j]+' -- '+ ped[i])\n",
    "        plt.plot(sub,arr,label=st)\n",
    "        plt.legend()\n"
   ]
  },
  {
   "cell_type": "markdown",
   "metadata": {
    "papermill": {
     "duration": 0.076576,
     "end_time": "2020-10-31T04:57:05.151517",
     "exception": false,
     "start_time": "2020-10-31T04:57:05.074941",
     "status": "completed"
    },
    "tags": []
   },
   "source": [
    "This graph showed us that students having standard lunch are scoring more than who had less or no lunch.\n",
    "This graph also showed us that combining well educated parent's child are scoring more over others.\n",
    "\n",
    "So,\n",
    "Conclusion :   \n",
    "* Score is proportional to *education of parents*.              \n",
    "* Score is proportional to having *proper lunch*."
   ]
  },
  {
   "cell_type": "markdown",
   "metadata": {
    "papermill": {
     "duration": 0.077444,
     "end_time": "2020-10-31T04:57:05.307128",
     "exception": false,
     "start_time": "2020-10-31T04:57:05.229684",
     "status": "completed"
    },
    "tags": []
   },
   "source": [
    "* **test preparation course**"
   ]
  },
  {
   "cell_type": "markdown",
   "metadata": {
    "papermill": {
     "duration": 0.076809,
     "end_time": "2020-10-31T04:57:05.461310",
     "exception": false,
     "start_time": "2020-10-31T04:57:05.384501",
     "status": "completed"
    },
    "tags": []
   },
   "source": [
    "Altough family status matters in scoring good marks , still a preparation over the exam may change the scores a lot."
   ]
  },
  {
   "cell_type": "code",
   "execution_count": 28,
   "metadata": {
    "execution": {
     "iopub.execute_input": "2020-10-31T04:57:05.624049Z",
     "iopub.status.busy": "2020-10-31T04:57:05.622975Z",
     "iopub.status.idle": "2020-10-31T04:57:05.627804Z",
     "shell.execute_reply": "2020-10-31T04:57:05.627226Z"
    },
    "papermill": {
     "duration": 0.089236,
     "end_time": "2020-10-31T04:57:05.627928",
     "exception": false,
     "start_time": "2020-10-31T04:57:05.538692",
     "status": "completed"
    },
    "tags": []
   },
   "outputs": [
    {
     "name": "stdout",
     "output_type": "stream",
     "text": [
      "prepared for exams 358\n",
      "not prepared for exams 642\n"
     ]
    }
   ],
   "source": [
    "pr=df[df['test preparation course']==0]\n",
    "print('prepared for exams',len(pr))\n",
    "pr1=df[df['test preparation course']==1]\n",
    "print('not prepared for exams',len(pr1))\n"
   ]
  },
  {
   "cell_type": "markdown",
   "metadata": {
    "papermill": {
     "duration": 0.077712,
     "end_time": "2020-10-31T04:57:05.783273",
     "exception": false,
     "start_time": "2020-10-31T04:57:05.705561",
     "status": "completed"
    },
    "tags": []
   },
   "source": [
    "average marks"
   ]
  },
  {
   "cell_type": "code",
   "execution_count": 29,
   "metadata": {
    "execution": {
     "iopub.execute_input": "2020-10-31T04:57:05.958989Z",
     "iopub.status.busy": "2020-10-31T04:57:05.952583Z",
     "iopub.status.idle": "2020-10-31T04:57:06.098367Z",
     "shell.execute_reply": "2020-10-31T04:57:06.098974Z"
    },
    "papermill": {
     "duration": 0.237924,
     "end_time": "2020-10-31T04:57:06.099122",
     "exception": false,
     "start_time": "2020-10-31T04:57:05.861198",
     "status": "completed"
    },
    "tags": []
   },
   "outputs": [
    {
     "data": {
      "image/png": "[encoded data removed]",
      "text/plain": [
       "<Figure size 432x288 with 1 Axes>"
      ]
     },
     "metadata": {
      "needs_background": "light"
     },
     "output_type": "display_data"
    }
   ],
   "source": [
    "st=[]\n",
    "nst=[]\n",
    "st.append(np.mean(pr['math score']))\n",
    "st.append(np.mean(pr['reading score']))\n",
    "st.append(np.mean(pr['writing score']))\n",
    "nst.append(np.mean(pr1['math score']))\n",
    "nst.append(np.mean(pr1['reading score']))\n",
    "nst.append(np.mean(pr1['writing score']))\n",
    "plt.title('Average score per preparation')\n",
    "plt.xlabel('subjects')\n",
    "plt.ylabel('average marks')\n",
    "plt.plot(sub,st,label='had preparation course')\n",
    "plt.legend()\n",
    "plt.plot(sub,nst,label=\"had no preparation courses\")\n",
    "plt.legend()\n",
    "plt.show()"
   ]
  },
  {
   "cell_type": "markdown",
   "metadata": {
    "papermill": {
     "duration": 0.079409,
     "end_time": "2020-10-31T04:57:06.258248",
     "exception": false,
     "start_time": "2020-10-31T04:57:06.178839",
     "status": "completed"
    },
    "tags": []
   },
   "source": [
    "Hence proved that having preparation helped the student to score a lot more than others."
   ]
  },
  {
   "cell_type": "markdown",
   "metadata": {
    "papermill": {
     "duration": 0.078838,
     "end_time": "2020-10-31T04:57:06.416687",
     "exception": false,
     "start_time": "2020-10-31T04:57:06.337849",
     "status": "completed"
    },
    "tags": []
   },
   "source": [
    "Scores of math are low all over every possibilites. So, it is clear the dataset is made based on students who are weaker in math and good in reading-writing."
   ]
  },
  {
   "cell_type": "markdown",
   "metadata": {
    "papermill": {
     "duration": 0.078707,
     "end_time": "2020-10-31T04:57:06.574655",
     "exception": false,
     "start_time": "2020-10-31T04:57:06.495948",
     "status": "completed"
    },
    "tags": []
   },
   "source": [
    "Here the EDA ends."
   ]
  },
  {
   "cell_type": "markdown",
   "metadata": {
    "papermill": {
     "duration": 0.07845,
     "end_time": "2020-10-31T04:57:06.731575",
     "exception": false,
     "start_time": "2020-10-31T04:57:06.653125",
     "status": "completed"
    },
    "tags": []
   },
   "source": [
    "# Please upvote if you like this EDA  :)"
   ]
  },
  {
   "cell_type": "markdown",
   "metadata": {
    "papermill": {
     "duration": 0.078427,
     "end_time": "2020-10-31T04:57:06.888979",
     "exception": false,
     "start_time": "2020-10-31T04:57:06.810552",
     "status": "completed"
    },
    "tags": []
   },
   "source": [
    "You can join my discoed server where I try to analyze over mant datasets:\n",
    "Discord Link : https://discord.gg/zSK9an6J     (Atlantic Data Studio)"
   ]
  }
 ],
 "metadata": {
  "kernelspec": {
   "display_name": "Python 3",
   "language": "python",
   "name": "python3"
  },
  "language_info": {
   "codemirror_mode": {
    "name": "ipython",
    "version": 3
   },
   "file_extension": ".py",
   "mimetype": "text/x-python",
   "name": "python",
   "nbconvert_exporter": "python",
   "pygments_lexer": "ipython3",
   "version": "3.7.6"
  },
  "papermill": {
   "duration": 18.798123,
   "end_time": "2020-10-31T04:57:07.075621",
   "environment_variables": {},
   "exception": null,
   "input_path": "__notebook__.ipynb",
   "output_path": "__notebook__.ipynb",
   "parameters": {},
   "start_time": "2020-10-31T04:56:48.277498",
   "version": "2.1.0"
  }
 },
 "nbformat": 4,
 "nbformat_minor": 4
}
